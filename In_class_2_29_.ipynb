{
  "nbformat": 4,
  "nbformat_minor": 0,
  "metadata": {
    "colab": {
      "provenance": [],
      "authorship_tag": "ABX9TyNWcU/JECR8ad7AyE14Qp+Z",
      "include_colab_link": true
    },
    "kernelspec": {
      "name": "python3",
      "display_name": "Python 3"
    },
    "language_info": {
      "name": "python"
    }
  },
  "cells": [
    {
      "cell_type": "markdown",
      "metadata": {
        "id": "view-in-github",
        "colab_type": "text"
      },
      "source": [
        "<a href=\"https://colab.research.google.com/github/mnguyen423/BTE-320/blob/main/In_class_2_29_.ipynb\" target=\"_parent\"><img src=\"https://colab.research.google.com/assets/colab-badge.svg\" alt=\"Open In Colab\"/></a>"
      ]
    },
    {
      "cell_type": "code",
      "execution_count": null,
      "metadata": {
        "id": "A6QkjFD0DkMv"
      },
      "outputs": [],
      "source": [
        "L = []\n",
        "\n",
        "while True:\n",
        "  number = int(input('Enter a value:'))\n",
        "  if number ==0:\n",
        "    break\n",
        "  L.append(number)\n",
        "  print(L)\n",
        "print(L)\n",
        "\n",
        "\n"
      ]
    }
  ]
}