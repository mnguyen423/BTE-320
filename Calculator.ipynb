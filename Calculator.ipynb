{
  "nbformat": 4,
  "nbformat_minor": 0,
  "metadata": {
    "colab": {
      "provenance": [],
      "authorship_tag": "ABX9TyPnW9YFHPyAS9v00MkG7V+8",
      "include_colab_link": true
    },
    "kernelspec": {
      "name": "python3",
      "display_name": "Python 3"
    },
    "language_info": {
      "name": "python"
    }
  },
  "cells": [
    {
      "cell_type": "markdown",
      "metadata": {
        "id": "view-in-github",
        "colab_type": "text"
      },
      "source": [
        "<a href=\"https://colab.research.google.com/github/mnguyen423/BTE-320/blob/main/Calculator.ipynb\" target=\"_parent\"><img src=\"https://colab.research.google.com/assets/colab-badge.svg\" alt=\"Open In Colab\"/></a>"
      ]
    },
    {
      "cell_type": "code",
      "execution_count": null,
      "metadata": {
        "colab": {
          "base_uri": "https://localhost:8080/"
        },
        "id": "KwPknRwGD5tL",
        "outputId": "c78ca707-06c6-4d1e-fd13-7d749a1922f8"
      },
      "outputs": [
        {
          "metadata": {
            "tags": null
          },
          "name": "stdout",
          "output_type": "stream",
          "text": [
            "1.0+4.0=5.0\n"
          ]
        }
      ],
      "source": [
        "while True:\n",
        "  operator = input('Enter mathematical operator:')\n",
        "\n",
        "  if operator =='break':\n",
        "    break\n",
        "\n",
        "  num1=float(input('Enter first number:'))\n",
        "  num2=float(input('Enter second number:'))\n",
        "\n",
        "  if operator == '+':\n",
        "    print(f'{num1}+{num2}={num1 + num2}')\n",
        "  elif operator == '-':\n",
        "    print(f'{num1}-{num2}={num1 - num2}')\n",
        "  elif operator == '*':\n",
        "    print(f'{num1}*{num2}={num1 * num2}')\n",
        "  elif operator == '**':\n",
        "    print(f'{num1}**{num2}={num1 ** num2}')\n",
        "  elif operator == '/':\n",
        "    print(f'{num1}/{num2}={num1 / num2}')\n",
        "  elif operator == '//':\n",
        "    print(f'{num1}//{num2}={num1 // num2}')\n",
        "  elif operator == '%':\n",
        "    print(f'{num1} modulo {num2}={num1 % num2}')\n",
        "  else:\n",
        "    print('invalid operator:', operator)\n",
        "    continue\n"
      ]
    }
  ]
}