{
  "nbformat": 4,
  "nbformat_minor": 0,
  "metadata": {
    "colab": {
      "provenance": [],
      "authorship_tag": "ABX9TyPB0+wR9HL3B2luS2pMDOz1",
      "include_colab_link": true
    },
    "kernelspec": {
      "name": "python3",
      "display_name": "Python 3"
    },
    "language_info": {
      "name": "python"
    }
  },
  "cells": [
    {
      "cell_type": "markdown",
      "metadata": {
        "id": "view-in-github",
        "colab_type": "text"
      },
      "source": [
        "<a href=\"https://colab.research.google.com/github/mnguyen423/BTE-320/blob/main/Lists.ipynb\" target=\"_parent\"><img src=\"https://colab.research.google.com/assets/colab-badge.svg\" alt=\"Open In Colab\"/></a>"
      ]
    },
    {
      "cell_type": "code",
      "execution_count": null,
      "metadata": {
        "id": "Yww-gty3UCFJ"
      },
      "outputs": [],
      "source": [
        "L = []\n",
        "\n",
        "while True:\n",
        "  number = int(input('Enter a value:'))\n",
        "  if number ==0:\n",
        "    break\n",
        "  L.append(number)\n",
        "  print(L)\n",
        "print(L)\n"
      ]
    }
  ]
}