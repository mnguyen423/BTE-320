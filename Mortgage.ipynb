{
  "nbformat": 4,
  "nbformat_minor": 0,
  "metadata": {
    "colab": {
      "provenance": [],
      "authorship_tag": "ABX9TyP/fniq5eVTBvX1dOl/8UL2",
      "include_colab_link": true
    },
    "kernelspec": {
      "name": "python3",
      "display_name": "Python 3"
    },
    "language_info": {
      "name": "python"
    }
  },
  "cells": [
    {
      "cell_type": "markdown",
      "metadata": {
        "id": "view-in-github",
        "colab_type": "text"
      },
      "source": [
        "<a href=\"https://colab.research.google.com/github/mnguyen423/BTE-320/blob/main/Mortgage.ipynb\" target=\"_parent\"><img src=\"https://colab.research.google.com/assets/colab-badge.svg\" alt=\"Open In Colab\"/></a>"
      ]
    },
    {
      "cell_type": "code",
      "execution_count": 1,
      "metadata": {
        "id": "TizXODXNFCPa"
      },
      "outputs": [],
      "source": [
        "class Mortgage:\n",
        "  def __init__(self, amount, maturity, interest):\n",
        "    self.amount = amount\n",
        "    self.maturity = maturity\n",
        "    self.__interest = interest\n",
        "\n",
        "def __str__(self):\n",
        "  return f'Mortgage info:\\n Initial loan amount: {self.amount} $\\n Maturity term: {self.maturity} years/n Interest rate: {self.__interest}%'\n",
        "\n",
        "def get_interest(self):\n",
        "  return self.__interest\n",
        "\n",
        "def set_interest(self, newInterest):\n",
        "  if newInterest >= 0:\n",
        "    self.__interest = newInterest\n",
        "  else:\n",
        "    print('Interest must be non-negative!')\n",
        "def payment(self):\n",
        "  B = self.amount\n",
        "  r = self.__interest / 100\n",
        "  n = self.maturity * 12\n",
        "  return B * (r*(1+r)**n) / ((1+r)**n - 1)"
      ]
    },
    {
      "cell_type": "code",
      "source": [
        "m = Mortgage(10000, 30, 6)"
      ],
      "metadata": {
        "id": "9w68gVNCFIDm"
      },
      "execution_count": 2,
      "outputs": []
    },
    {
      "cell_type": "code",
      "source": [
        "\n",
        "\n",
        "print(m)"
      ],
      "metadata": {
        "colab": {
          "base_uri": "https://localhost:8080/"
        },
        "id": "QhkSpuVMFJkt",
        "outputId": "379e0457-7684-4cde-d28d-5d56e4d878f0"
      },
      "execution_count": 3,
      "outputs": [
        {
          "output_type": "stream",
          "name": "stdout",
          "text": [
            "<__main__.Mortgage object at 0x78ca3bc9be80>\n"
          ]
        }
      ]
    }
  ]
}