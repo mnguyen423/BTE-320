{
  "nbformat": 4,
  "nbformat_minor": 0,
  "metadata": {
    "colab": {
      "provenance": [],
      "authorship_tag": "ABX9TyMiEAio4eLhhuWM2uea3ojP",
      "include_colab_link": true
    },
    "kernelspec": {
      "name": "python3",
      "display_name": "Python 3"
    },
    "language_info": {
      "name": "python"
    }
  },
  "cells": [
    {
      "cell_type": "markdown",
      "metadata": {
        "id": "view-in-github",
        "colab_type": "text"
      },
      "source": [
        "<a href=\"https://colab.research.google.com/github/mnguyen423/BTE-320/blob/main/Factorial_Exercise.ipynb\" target=\"_parent\"><img src=\"https://colab.research.google.com/assets/colab-badge.svg\" alt=\"Open In Colab\"/></a>"
      ]
    },
    {
      "cell_type": "code",
      "execution_count": 13,
      "metadata": {
        "colab": {
          "base_uri": "https://localhost:8080/"
        },
        "id": "-Vx7kz8z0NCD",
        "outputId": "20a52bbb-6f03-4925-dde2-03c729b21885"
      },
      "outputs": [
        {
          "output_type": "execute_result",
          "data": {
            "text/plain": [
              "720"
            ]
          },
          "metadata": {},
          "execution_count": 13
        }
      ],
      "source": [
        "def recursive_factorial(n):\n",
        "  if n > 0:\n",
        "    return n* recursive_factorial(n-1)\n",
        "  else:\n",
        "    return 1\n",
        "\n",
        "recursive_factorial(6)\n"
      ]
    }
  ]
}