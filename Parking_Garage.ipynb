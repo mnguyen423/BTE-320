{
  "nbformat": 4,
  "nbformat_minor": 0,
  "metadata": {
    "colab": {
      "provenance": [],
      "authorship_tag": "ABX9TyONYQgSF2dpKknnIau6iGIi",
      "include_colab_link": true
    },
    "kernelspec": {
      "name": "python3",
      "display_name": "Python 3"
    },
    "language_info": {
      "name": "python"
    }
  },
  "cells": [
    {
      "cell_type": "markdown",
      "metadata": {
        "id": "view-in-github",
        "colab_type": "text"
      },
      "source": [
        "<a href=\"https://colab.research.google.com/github/mnguyen423/BTE-320/blob/main/Parking_Garage.ipynb\" target=\"_parent\"><img src=\"https://colab.research.google.com/assets/colab-badge.svg\" alt=\"Open In Colab\"/></a>"
      ]
    },
    {
      "cell_type": "code",
      "execution_count": null,
      "metadata": {
        "id": "vt-K0qTjEH9J"
      },
      "outputs": [],
      "source": [
        "#Parking Garage Example\n",
        "import numpy as np\n",
        "count=0\n",
        "for i in np.arange(7.50,27.50,2.50):\n",
        "  count=count+1\n",
        "  print(f'# of Hours: {count}, Price: ${i}')"
      ]
    }
  ]
}