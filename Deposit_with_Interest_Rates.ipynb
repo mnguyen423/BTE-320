{
  "nbformat": 4,
  "nbformat_minor": 0,
  "metadata": {
    "colab": {
      "provenance": [],
      "authorship_tag": "ABX9TyO6PJ23YzVYZkfNAYJDWKCD",
      "include_colab_link": true
    },
    "kernelspec": {
      "name": "python3",
      "display_name": "Python 3"
    },
    "language_info": {
      "name": "python"
    }
  },
  "cells": [
    {
      "cell_type": "markdown",
      "metadata": {
        "id": "view-in-github",
        "colab_type": "text"
      },
      "source": [
        "<a href=\"https://colab.research.google.com/github/mnguyen423/BTE-320/blob/main/Deposit_with_Interest_Rates.ipynb\" target=\"_parent\"><img src=\"https://colab.research.google.com/assets/colab-badge.svg\" alt=\"Open In Colab\"/></a>"
      ]
    },
    {
      "cell_type": "code",
      "execution_count": 1,
      "metadata": {
        "colab": {
          "base_uri": "https://localhost:8080/"
        },
        "id": "T9YwN8F7UXRX",
        "outputId": "6e43a8b0-15b2-4055-d174-c43875a2162d"
      },
      "outputs": [
        {
          "output_type": "stream",
          "name": "stdout",
          "text": [
            "6000 1\n",
            "11000 2\n",
            "16000 3\n",
            "21000 4\n",
            "26000 5\n",
            "31000 6\n",
            "36000 7\n",
            "41000 8\n",
            "46000 9\n",
            "51000 10\n",
            "56000 11\n",
            "61000 12\n",
            "66000 13\n",
            "71000 14\n",
            "76000 15\n",
            "81000 16\n",
            "86000 17\n",
            "91000 18\n",
            "96000 19\n",
            "101000 20\n"
          ]
        }
      ],
      "source": [
        "down = 100000\n",
        "deposit = 1000\n",
        "amount = 5000\n",
        "n_months = 0\n",
        "\n",
        "while deposit < down:\n",
        "  deposit = deposit + amount\n",
        "  n_months = n_months + 1\n",
        "  print (deposit, n_months)\n"
      ]
    }
  ]
}