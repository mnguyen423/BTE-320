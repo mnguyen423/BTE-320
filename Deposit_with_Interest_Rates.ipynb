{
  "nbformat": 4,
  "nbformat_minor": 0,
  "metadata": {
    "colab": {
      "provenance": [],
      "authorship_tag": "ABX9TyNzmeEk1hR1+BZdxfEiZ/vU",
      "include_colab_link": true
    },
    "kernelspec": {
      "name": "python3",
      "display_name": "Python 3"
    },
    "language_info": {
      "name": "python"
    }
  },
  "cells": [
    {
      "cell_type": "markdown",
      "metadata": {
        "id": "view-in-github",
        "colab_type": "text"
      },
      "source": [
        "<a href=\"https://colab.research.google.com/github/mnguyen423/BTE-320/blob/main/Deposit_with_Interest_Rates.ipynb\" target=\"_parent\"><img src=\"https://colab.research.google.com/assets/colab-badge.svg\" alt=\"Open In Colab\"/></a>"
      ]
    },
    {
      "cell_type": "code",
      "execution_count": 1,
      "metadata": {
        "colab": {
          "base_uri": "https://localhost:8080/"
        },
        "id": "T9YwN8F7UXRX",
        "outputId": "7dada612-ebc6-4eed-adcf-b58a2d2fbc78"
      },
      "outputs": [
        {
          "output_type": "stream",
          "name": "stdout",
          "text": [
            "Enter your name: Madison\n",
            "Enter customer type (n: new, e:existing): e\n",
            "Enter deposit amount (in $): 9000\n",
            "9292.5\n"
          ]
        }
      ],
      "source": [
        "#Deposit with Interest\n",
        "name = input('Enter your name: ')\n",
        "customer_type = input('Enter customer type (n: new, e:existing): ')\n",
        "deposit = float(input(\"Enter deposit amount (in $): \"))\n",
        "\n",
        "if customer_type == 'n':\n",
        "  interest = 0.03\n",
        "else:\n",
        "  if deposit <= 1000:\n",
        "    interest = 0.03\n",
        "  elif deposit <= 10000:\n",
        "    interest = 0.0325\n",
        "  elif deposit > 10000:\n",
        "    interest = 0.035\n",
        "\n",
        "total = (1 + interest) * deposit\n",
        "print(total)\n"
      ]
    }
  ]
}